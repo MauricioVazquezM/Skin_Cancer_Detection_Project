{
 "cells": [
  {
   "cell_type": "markdown",
   "metadata": {},
   "source": [
    "# Data augmentation to balance classes"
   ]
  },
  {
   "cell_type": "code",
   "execution_count": 21,
   "metadata": {},
   "outputs": [],
   "source": [
    "import os\n",
    "import numpy as np\n",
    "from PIL import Image\n",
    "import pandas as pd"
   ]
  },
  {
   "cell_type": "code",
   "execution_count": 22,
   "metadata": {},
   "outputs": [],
   "source": [
    "def load_image_labels(csv_path):\n",
    "    # Read the CSV file\n",
    "    df = pd.read_csv(csv_path)\n",
    "    \n",
    "    # Create a dictionary of image labels\n",
    "    # Assumes 'isic_id' column contains image names and 'target' column contains labels\n",
    "    image_labels = dict(zip(df['isic_id'], df['target']))\n",
    "    \n",
    "    return image_labels"
   ]
  },
  {
   "cell_type": "code",
   "execution_count": null,
   "metadata": {},
   "outputs": [],
   "source": [
    "def crop_image(image, num_crops=4):\n",
    "\n",
    "    # Get image dimensions\n",
    "    width, height = image.size\n",
    "    \n",
    "    # Define crop sizes and positions\n",
    "    crop_configs = [\n",
    "        # Top left\n",
    "        (0, 0, width // 2, height // 2),\n",
    "        # Top right\n",
    "        (width // 2, 0, width, height // 2),\n",
    "        # Bottom left\n",
    "        (0, height // 2, width // 2, height),\n",
    "        # Bottom right\n",
    "        (width // 2, height // 2, width, height)\n",
    "    ]\n",
    "    \n",
    "    # Crop images\n",
    "    cropped_images = []\n",
    "    for x1, y1, x2, y2 in crop_configs[:num_crops]:\n",
    "        # Crop the image\n",
    "        crop = image.crop((x1, y1, x2, y2))\n",
    "        \n",
    "        # Resize crop back to original image size\n",
    "        if crop.size != (width, height):\n",
    "            crop = crop.resize((width, height), Image.LANCZOS)\n",
    "        \n",
    "        cropped_images.append(crop)\n",
    "    \n",
    "    return cropped_images"
   ]
  },
  {
   "cell_type": "code",
   "execution_count": 24,
   "metadata": {},
   "outputs": [],
   "source": [
    "def augment_positive_class(images_dir, csv_path, output_dir):\n",
    "    # Create output directory if it doesn't exist\n",
    "    os.makedirs(output_dir, exist_ok=True)\n",
    "    \n",
    "    # Load image labels\n",
    "    image_labels = load_image_labels(csv_path)\n",
    "    \n",
    "    # Counter for naming augmented images\n",
    "    aug_counter = 0\n",
    "    \n",
    "    # Iterate through images in input directory\n",
    "    for filename in os.listdir(images_dir):\n",
    "        # Check if image is in the labels dictionary and is positive\n",
    "        base_name = os.path.splitext(filename)[0]\n",
    "        if base_name not in image_labels or image_labels[base_name] != 1:\n",
    "            continue\n",
    "        \n",
    "        # Read image\n",
    "        img_path = os.path.join(images_dir, filename)\n",
    "        try:\n",
    "            image = Image.open(img_path)\n",
    "        except Exception as e:\n",
    "            print(f\"Could not read image: {img_path}. Error: {e}\")\n",
    "            continue\n",
    "        \n",
    "        # Generate crops\n",
    "        cropped_images = crop_image(image)\n",
    "        \n",
    "        # Save cropped images\n",
    "        for crop in cropped_images:\n",
    "            aug_filename = f\"augmented_{aug_counter}_{filename}\"\n",
    "            aug_path = os.path.join(output_dir, aug_filename)\n",
    "            crop.save(aug_path)\n",
    "            aug_counter += 1\n",
    "    \n",
    "    print(f\"Augmentation complete. Generated {aug_counter} augmented images.\")\n"
   ]
  },
  {
   "cell_type": "code",
   "execution_count": null,
   "metadata": {},
   "outputs": [],
   "source": [
    "csv_path = \"../DATA/cancer/df_datos.csv\"\n",
    "images_dir = '../DATA/cancer/im'\n",
    "output_dir = '../DATA/cancer_cropped'"
   ]
  },
  {
   "cell_type": "code",
   "execution_count": 26,
   "metadata": {},
   "outputs": [
    {
     "name": "stdout",
     "output_type": "stream",
     "text": [
      "Augmentation complete. Generated 1572 augmented images.\n"
     ]
    }
   ],
   "source": [
    "augment_positive_class(images_dir,csv_path,output_dir)"
   ]
  },
  {
   "cell_type": "code",
   "execution_count": null,
   "metadata": {},
   "outputs": [],
   "source": []
  }
 ],
 "metadata": {
  "kernelspec": {
   "display_name": "pandas",
   "language": "python",
   "name": "python3"
  },
  "language_info": {
   "codemirror_mode": {
    "name": "ipython",
    "version": 3
   },
   "file_extension": ".py",
   "mimetype": "text/x-python",
   "name": "python",
   "nbconvert_exporter": "python",
   "pygments_lexer": "ipython3",
   "version": "3.10.9"
  }
 },
 "nbformat": 4,
 "nbformat_minor": 2
}
